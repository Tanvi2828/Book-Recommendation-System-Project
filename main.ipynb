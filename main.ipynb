{
 "cells": [
  {
   "cell_type": "code",
   "execution_count": 1,
   "metadata": {},
   "outputs": [
    {
     "name": "stderr",
     "output_type": "stream",
     "text": [
      "C:\\Users\\Tanvi\\AppData\\Local\\Temp\\ipykernel_118516\\2169757351.py:5: DtypeWarning: Columns (3) have mixed types. Specify dtype option on import or set low_memory=False.\n",
      "  books = pd.read_csv(file_path)\n"
     ]
    },
    {
     "name": "stdout",
     "output_type": "stream",
     "text": [
      "Dataset loaded. Shape: (271360, 8)\n",
      "         ISBN                                         Book-Title  \\\n",
      "0  0195153448                                Classical Mythology   \n",
      "1  0002005018                                       Clara Callan   \n",
      "2  0060973129                               Decision in Normandy   \n",
      "3  0374157065  Flu: The Story of the Great Influenza Pandemic...   \n",
      "4  0393045218                             The Mummies of Urumchi   \n",
      "\n",
      "            Book-Author Year-Of-Publication                   Publisher  \\\n",
      "0    Mark P. O. Morford                2002     Oxford University Press   \n",
      "1  Richard Bruce Wright                2001       HarperFlamingo Canada   \n",
      "2          Carlo D'Este                1991             HarperPerennial   \n",
      "3      Gina Bari Kolata                1999        Farrar Straus Giroux   \n",
      "4       E. J. W. Barber                1999  W. W. Norton &amp; Company   \n",
      "\n",
      "                                         Image-URL-S  \\\n",
      "0  http://images.amazon.com/images/P/0195153448.0...   \n",
      "1  http://images.amazon.com/images/P/0002005018.0...   \n",
      "2  http://images.amazon.com/images/P/0060973129.0...   \n",
      "3  http://images.amazon.com/images/P/0374157065.0...   \n",
      "4  http://images.amazon.com/images/P/0393045218.0...   \n",
      "\n",
      "                                         Image-URL-M  \\\n",
      "0  http://images.amazon.com/images/P/0195153448.0...   \n",
      "1  http://images.amazon.com/images/P/0002005018.0...   \n",
      "2  http://images.amazon.com/images/P/0060973129.0...   \n",
      "3  http://images.amazon.com/images/P/0374157065.0...   \n",
      "4  http://images.amazon.com/images/P/0393045218.0...   \n",
      "\n",
      "                                         Image-URL-L  \n",
      "0  http://images.amazon.com/images/P/0195153448.0...  \n",
      "1  http://images.amazon.com/images/P/0002005018.0...  \n",
      "2  http://images.amazon.com/images/P/0060973129.0...  \n",
      "3  http://images.amazon.com/images/P/0374157065.0...  \n",
      "4  http://images.amazon.com/images/P/0393045218.0...  \n",
      "Cleaned dataset. Shape: (271358, 4)\n"
     ]
    }
   ],
   "source": [
    "import pandas as pd\n",
    "\n",
    "# Load the dataset\n",
    "file_path = \"C:\\\\Book Recommendation system Project\\\\Books.csv\\\\Books.csv\"\n",
    "books = pd.read_csv(file_path)\n",
    "\n",
    "# Display basic information\n",
    "print(\"Dataset loaded. Shape:\", books.shape)\n",
    "print(books.head())\n",
    "\n",
    "# Preprocessing: Drop duplicates and handle missing values\n",
    "books = books.drop_duplicates(subset='ISBN')\n",
    "books = books.dropna(subset=['Book-Title', 'Book-Author'])\n",
    "\n",
    "# Keep relevant columns for recommendations\n",
    "books = books[['Book-Title', 'Book-Author', 'Publisher', 'Year-Of-Publication']]\n",
    "books = books.reset_index(drop=True)\n",
    "print(\"Cleaned dataset. Shape:\", books.shape)\n"
   ]
  },
  {
   "cell_type": "code",
   "execution_count": 4,
   "metadata": {},
   "outputs": [
    {
     "name": "stdout",
     "output_type": "stream",
     "text": [
      "                                          Book-Title  \\\n",
      "0                                Classical Mythology   \n",
      "1                                       Clara Callan   \n",
      "2                               Decision in Normandy   \n",
      "3  Flu: The Story of the Great Influenza Pandemic...   \n",
      "4                             The Mummies of Urumchi   \n",
      "\n",
      "                                   combined_features  \n",
      "0  Classical Mythology Mark P. O. Morford Oxford ...  \n",
      "1  Clara Callan Richard Bruce Wright HarperFlamin...  \n",
      "2  Decision in Normandy Carlo D'Este HarperPerennial  \n",
      "3  Flu: The Story of the Great Influenza Pandemic...  \n",
      "4  The Mummies of Urumchi E. J. W. Barber W. W. N...  \n"
     ]
    }
   ],
   "source": [
    "# Combine features into a single string\n",
    "books['combined_features'] = (\n",
    "    books['Book-Title'].fillna('') + \" \" +\n",
    "    books['Book-Author'].fillna('') + \" \" +\n",
    "    books['Publisher'].fillna('')\n",
    ")\n",
    "\n",
    "# Display the combined feature\n",
    "print(books[['Book-Title', 'combined_features']].head())\n"
   ]
  },
  {
   "cell_type": "code",
   "execution_count": 6,
   "metadata": {},
   "outputs": [
    {
     "name": "stdout",
     "output_type": "stream",
     "text": [
      "Recommendations for 'Classical Mythology':\n",
      "                                               Book-Title         Book-Author  \\\n",
      "111977                                Classical mythology    Mark P.O Morford   \n",
      "193921                                Classical mythology   Mark P. O Morford   \n",
      "95231                                 Classical Mythology  Mark P. O. Morford   \n",
      "205928  Who's Who in Classical Mythology (Who's Who Se...       Michael Grant   \n",
      "54275                     The Oxford Classical Dictionary    Simon Hornblower   \n",
      "\n",
      "                      Publisher  \n",
      "111977                  Longman  \n",
      "193921                  Longman  \n",
      "95231     John Wiley &amp; Sons  \n",
      "205928  Oxford University Press  \n",
      "54275   Oxford University Press  \n"
     ]
    }
   ],
   "source": [
    "from sklearn.feature_extraction.text import TfidfVectorizer\n",
    "from sklearn.neighbors import NearestNeighbors\n",
    "\n",
    "# Use TF-IDF Vectorizer to convert text to numerical format\n",
    "tfidf = TfidfVectorizer(stop_words='english')\n",
    "tfidf_matrix = tfidf.fit_transform(books['combined_features'])\n",
    "\n",
    "# Fit NearestNeighbors model\n",
    "nn_model = NearestNeighbors(metric='cosine', algorithm='brute')\n",
    "nn_model.fit(tfidf_matrix)\n",
    "\n",
    "# Function to recommend books using NearestNeighbors\n",
    "def recommend_books_nn(title, n=5):\n",
    "    # Get the index of the book\n",
    "    indices = pd.Series(books.index, index=books['Book-Title']).drop_duplicates()\n",
    "    if title not in indices:\n",
    "        return f\"'{title}' not found in the dataset.\"\n",
    "    \n",
    "    idx = indices[title]\n",
    "    \n",
    "    # Find nearest neighbors\n",
    "    distances, neighbors = nn_model.kneighbors(tfidf_matrix[idx], n_neighbors=n+1)\n",
    "    \n",
    "    # Return recommended books\n",
    "    recommended = books.iloc[neighbors[0][1:]][['Book-Title', 'Book-Author', 'Publisher']]\n",
    "    return recommended\n",
    "\n",
    "# Test the recommendation function\n",
    "book_title = \"Classical Mythology\"\n",
    "recommendations = recommend_books_nn(book_title, n=5)\n",
    "print(f\"Recommendations for '{book_title}':\")\n",
    "print(recommendations)\n"
   ]
  },
  {
   "cell_type": "code",
   "execution_count": 8,
   "metadata": {},
   "outputs": [
    {
     "name": "stdout",
     "output_type": "stream",
     "text": [
      "Recommendations for 'Classical Mythology':\n",
      "                                               Book-Title         Book-Author  \\\n",
      "111977                                Classical mythology    Mark P.O Morford   \n",
      "193921                                Classical mythology   Mark P. O Morford   \n",
      "95231                                 Classical Mythology  Mark P. O. Morford   \n",
      "205928  Who's Who in Classical Mythology (Who's Who Se...       Michael Grant   \n",
      "54275                     The Oxford Classical Dictionary    Simon Hornblower   \n",
      "\n",
      "                      Publisher  \n",
      "111977                  Longman  \n",
      "193921                  Longman  \n",
      "95231     John Wiley &amp; Sons  \n",
      "205928  Oxford University Press  \n",
      "54275   Oxford University Press  \n"
     ]
    }
   ],
   "source": [
    "from sklearn.feature_extraction.text import TfidfVectorizer\n",
    "from sklearn.neighbors import NearestNeighbors\n",
    "\n",
    "# Use TF-IDF Vectorizer to convert text to numerical format\n",
    "tfidf = TfidfVectorizer(stop_words='english')\n",
    "tfidf_matrix = tfidf.fit_transform(books['combined_features'])\n",
    "\n",
    "# Fit NearestNeighbors model\n",
    "nn_model = NearestNeighbors(metric='cosine', algorithm='brute')\n",
    "nn_model.fit(tfidf_matrix)\n",
    "\n",
    "# Function to recommend books using NearestNeighbors\n",
    "def recommend_books_nn(title, n=5):\n",
    "    # Get the index of the book\n",
    "    indices = pd.Series(books.index, index=books['Book-Title']).drop_duplicates()\n",
    "    if title not in indices:\n",
    "        return f\"'{title}' not found in the dataset.\"\n",
    "    \n",
    "    idx = indices[title]\n",
    "    \n",
    "    # Find nearest neighbors\n",
    "    distances, neighbors = nn_model.kneighbors(tfidf_matrix[idx], n_neighbors=n+1)\n",
    "    \n",
    "    # Return recommended books\n",
    "    recommended = books.iloc[neighbors[0][1:]][['Book-Title', 'Book-Author', 'Publisher']]\n",
    "    return recommended\n",
    "\n",
    "# Test the recommendation function\n",
    "book_title = \"Classical Mythology\"\n",
    "recommendations = recommend_books_nn(book_title, n=5)\n",
    "print(f\"Recommendations for '{book_title}':\")\n",
    "print(recommendations)\n"
   ]
  },
  {
   "cell_type": "code",
   "execution_count": 4,
   "metadata": {},
   "outputs": [
    {
     "name": "stderr",
     "output_type": "stream",
     "text": [
      "C:\\Users\\Tanvi\\AppData\\Local\\Temp\\ipykernel_82436\\1601683430.py:7: DtypeWarning: Columns (3) have mixed types. Specify dtype option on import or set low_memory=False.\n",
      "  books = pd.read_csv(\"C:\\\\Book Recommendation system Project\\\\Books.csv\\\\Books.csv\")\n"
     ]
    },
    {
     "name": "stdout",
     "output_type": "stream",
     "text": [
      "Models saved successfully!\n"
     ]
    }
   ],
   "source": [
    "import joblib\n",
    "from sklearn.feature_extraction.text import TfidfVectorizer\n",
    "from sklearn.neighbors import NearestNeighbors\n",
    "import pandas as pd\n",
    "\n",
    "# Load your dataset\n",
    "books = pd.read_csv(\"C:\\\\Book Recommendation system Project\\\\Books.csv\\\\Books.csv\")\n",
    "\n",
    "# Combine features into a single string (ensure no missing values)\n",
    "books['combined_features'] = (\n",
    "    books['Book-Title'].fillna('') + \" \" +\n",
    "    books['Book-Author'].fillna('') + \" \" +\n",
    "    books['Publisher'].fillna('')\n",
    ")\n",
    "\n",
    "# Use TF-IDF Vectorizer to convert text to numerical format\n",
    "tfidf = TfidfVectorizer(stop_words='english')\n",
    "tfidf_matrix = tfidf.fit_transform(books['combined_features'])\n",
    "\n",
    "# Fit NearestNeighbors model\n",
    "nn_model = NearestNeighbors(metric='cosine', algorithm='brute')\n",
    "nn_model.fit(tfidf_matrix)\n",
    "\n",
    "# Save TF-IDF Vectorizer and NearestNeighbors Model\n",
    "joblib.dump(tfidf, 'tfidf_vectorizer.pkl')\n",
    "joblib.dump(nn_model, 'nearest_neighbors_model.pkl')\n",
    "\n",
    "print(\"Models saved successfully!\")\n"
   ]
  },
  {
   "cell_type": "code",
   "execution_count": 5,
   "metadata": {},
   "outputs": [
    {
     "name": "stdout",
     "output_type": "stream",
     "text": [
      "Models loaded successfully!\n"
     ]
    }
   ],
   "source": [
    "# Load the saved models\n",
    "tfidf = joblib.load('tfidf_vectorizer.pkl')\n",
    "nn_model = joblib.load('nearest_neighbors_model.pkl')\n",
    "\n",
    "print(\"Models loaded successfully!\")\n"
   ]
  },
  {
   "cell_type": "code",
   "execution_count": 6,
   "metadata": {},
   "outputs": [
    {
     "data": {
      "image/png": "[encoded data removed]",
      "text/plain": [
       "<Figure size 640x480 with 1 Axes>"
      ]
     },
     "metadata": {},
     "output_type": "display_data"
    }
   ],
   "source": [
    "import matplotlib.pyplot as plt\n",
    "\n",
    "# Analyze the top publishers\n",
    "top_publishers = books['Publisher'].value_counts().head(10)\n",
    "top_publishers.plot(kind='barh', color='teal', title='Top 10 Publishers')\n",
    "plt.xlabel('Number of Books')\n",
    "plt.ylabel('Publisher')\n",
    "plt.show()\n"
   ]
  }
 ],
 "metadata": {
  "kernelspec": {
   "display_name": "Python 3",
   "language": "python",
   "name": "python3"
  },
  "language_info": {
   "codemirror_mode": {
    "name": "ipython",
    "version": 3
   },
   "file_extension": ".py",
   "mimetype": "text/x-python",
   "name": "python",
   "nbconvert_exporter": "python",
   "pygments_lexer": "ipython3",
   "version": "3.12.3"
  }
 },
 "nbformat": 4,
 "nbformat_minor": 2
}
